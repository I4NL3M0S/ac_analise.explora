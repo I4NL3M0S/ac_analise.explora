{
 "cells": [
  {
   "cell_type": "markdown",
   "metadata": {},
   "source": [
    "# AC5 E 6 - ANÁLISE EXPLORATÓRIA"
   ]
  },
  {
   "cell_type": "markdown",
   "metadata": {},
   "source": [
    "### Impotação das bibliotecas utilizadas"
   ]
  },
  {
   "cell_type": "code",
   "execution_count": null,
   "metadata": {
    "collapsed": true
   },
   "outputs": [],
   "source": [
    "import pandas as pd\n",
    "import numpy as np\n",
    "import matplotlib.pyplot as plt"
   ]
  },
  {
   "cell_type": "markdown",
   "metadata": {},
   "source": [
    "### Transformação dos arquivos csv referentes a cada grupo em DataFrame"
   ]
  },
  {
   "cell_type": "code",
   "execution_count": null,
   "metadata": {
    "collapsed": true
   },
   "outputs": [],
   "source": [
    "grupo1 = pd.DataFrame.from_csv(\"Grupo1.csv\", header=0, sep=\";\")\n",
    "grupo2 = pd.DataFrame.from_csv(\"Grupo2.csv\", header=0, sep=\";\")\n",
    "grupo3 = pd.DataFrame.from_csv(\"Grupo3.csv\", header=0, sep=\";\")\n",
    "grupo4 = pd.DataFrame.from_csv(\"Grupo4.csv\", header=0, sep=\";\")"
   ]
  },
  {
   "cell_type": "code",
   "execution_count": null,
   "metadata": {
    "collapsed": true
   },
   "outputs": [],
   "source": [
    "print (grupo1)"
   ]
  },
  {
   "cell_type": "code",
   "execution_count": null,
   "metadata": {
    "collapsed": true
   },
   "outputs": [],
   "source": [
    "print (grupo2)"
   ]
  },
  {
   "cell_type": "code",
   "execution_count": null,
   "metadata": {
    "collapsed": true
   },
   "outputs": [],
   "source": [
    "print (grupo3)"
   ]
  },
  {
   "cell_type": "code",
   "execution_count": null,
   "metadata": {
    "collapsed": true
   },
   "outputs": [],
   "source": [
    "print (grupo4)"
   ]
  },
  {
   "cell_type": "markdown",
   "metadata": {},
   "source": [
    "### Substituição dos pontos de interrogação por valores nulos"
   ]
  },
  {
   "cell_type": "code",
   "execution_count": null,
   "metadata": {
    "collapsed": true
   },
   "outputs": [],
   "source": [
    "grupo1 = grupo1.replace(\"?\", np.NaN)\n",
    "grupo2 = grupo2.replace(\"?\", np.NaN)\n",
    "grupo3 = grupo3.replace(\"?\", np.NaN)\n",
    "grupo4 = grupo4.replace(\"?\", np.NaN)"
   ]
  },
  {
   "cell_type": "code",
   "execution_count": null,
   "metadata": {
    "collapsed": true
   },
   "outputs": [],
   "source": [
    "print (grupo1)"
   ]
  },
  {
   "cell_type": "code",
   "execution_count": null,
   "metadata": {
    "collapsed": true
   },
   "outputs": [],
   "source": [
    "print (grupo2)"
   ]
  },
  {
   "cell_type": "code",
   "execution_count": null,
   "metadata": {
    "collapsed": true
   },
   "outputs": [],
   "source": [
    "print (grupo3)"
   ]
  },
  {
   "cell_type": "code",
   "execution_count": null,
   "metadata": {
    "collapsed": true
   },
   "outputs": [],
   "source": [
    "print (grupo4)"
   ]
  },
  {
   "cell_type": "markdown",
   "metadata": {},
   "source": [
    "### Converção dos tipos de dados de todas as colunas dos dataframes para \"float\""
   ]
  },
  {
   "cell_type": "code",
   "execution_count": null,
   "metadata": {
    "collapsed": true
   },
   "outputs": [],
   "source": [
    "for col in grupo1:\n",
    "    grupo1[col] = grupo1[col].astype(float)\n",
    "for col in grupo2:\n",
    "    grupo2[col] = grupo2[col].astype(float)\n",
    "for col in grupo3:\n",
    "    grupo3[col] = grupo3[col].astype(float)\n",
    "for col in grupo4:\n",
    "    grupo4[col] = grupo4[col].astype(float)"
   ]
  },
  {
   "cell_type": "code",
   "execution_count": null,
   "metadata": {
    "collapsed": true
   },
   "outputs": [],
   "source": [
    "grupo1.dtypes"
   ]
  },
  {
   "cell_type": "code",
   "execution_count": null,
   "metadata": {
    "collapsed": true
   },
   "outputs": [],
   "source": [
    "grupo2.dtypes"
   ]
  },
  {
   "cell_type": "code",
   "execution_count": null,
   "metadata": {
    "collapsed": true
   },
   "outputs": [],
   "source": [
    "grupo3.dtypes"
   ]
  },
  {
   "cell_type": "code",
   "execution_count": null,
   "metadata": {
    "collapsed": true
   },
   "outputs": [],
   "source": [
    "grupo4.dtypes"
   ]
  },
  {
   "cell_type": "markdown",
   "metadata": {},
   "source": [
    "### Criação de um dataframe por grupo armazenando o número de valores por coluna (desprezando nulos), média, desvio padrão, mínimo, máximo, Q1, Q2 e Q3"
   ]
  },
  {
   "cell_type": "code",
   "execution_count": null,
   "metadata": {
    "collapsed": true
   },
   "outputs": [],
   "source": [
    "stats_g1 = grupo1.describe(exclude=None)\n",
    "stats_g2 = grupo2.describe(exclude=None)\n",
    "stats_g3 = grupo3.describe(exclude=None)\n",
    "stats_g4 = grupo4.describe(exclude=None)"
   ]
  },
  {
   "cell_type": "code",
   "execution_count": null,
   "metadata": {
    "collapsed": true
   },
   "outputs": [],
   "source": [
    "print (stats_g1)"
   ]
  },
  {
   "cell_type": "code",
   "execution_count": null,
   "metadata": {
    "collapsed": true
   },
   "outputs": [],
   "source": [
    "print (stats_g2)"
   ]
  },
  {
   "cell_type": "code",
   "execution_count": null,
   "metadata": {
    "collapsed": true
   },
   "outputs": [],
   "source": [
    "print (stats_g3)"
   ]
  },
  {
   "cell_type": "code",
   "execution_count": null,
   "metadata": {
    "collapsed": true
   },
   "outputs": [],
   "source": [
    "print (stats_g4)"
   ]
  },
  {
   "cell_type": "markdown",
   "metadata": {},
   "source": [
    "### Gráficos mostrando quantos homens e mulheres existem em cada grupo e quantos indivíduos possuem cirrose, diabetes, obesidade e hiv em cada grupo."
   ]
  },
  {
   "cell_type": "markdown",
   "metadata": {},
   "source": [
    "#### Gráfico de Gênero"
   ]
  },
  {
   "cell_type": "code",
   "execution_count": null,
   "metadata": {
    "collapsed": true
   },
   "outputs": [],
   "source": [
    "plt.bar([1, 2, 3, 4],[grupo1[\"Gender\"].sum(axis=0, skipna = True), grupo2[\"Gender\"].sum(axis=0, skipna = True), grupo3[\"Gender\"].sum(axis=0, skipna = True), grupo4[\"Gender\"].sum(axis=0, skipna = True)], width=0.5, color=[\"red\",\"blue\",\"green\",\"black\"])\n",
    "plt.xticks([1, 2, 3, 4], [\"Grupo1\", \"Grupo2\", \"Grupo3\", \"Grupo4\"])\n",
    "plt.show()"
   ]
  },
  {
   "cell_type": "markdown",
   "metadata": {},
   "source": [
    "#### Gráfico de Cirrose"
   ]
  },
  {
   "cell_type": "code",
   "execution_count": null,
   "metadata": {
    "collapsed": true
   },
   "outputs": [],
   "source": [
    "plt.bar([1, 2, 3, 4],[grupo1[\"Cirrhosis\"].sum(axis=0, skipna = True), grupo2[\"Cirrhosis\"].sum(axis=0, skipna = True), grupo3[\"Cirrhosis\"].sum(axis=0, skipna = True), grupo4[\"Cirrhosis\"].sum(axis=0, skipna = True)], width=0.5, color=[\"blue\",\"orange\",\"green\",\"red\"])\n",
    "plt.xticks([1, 2, 3, 4], [\"Grupo1\", \"Grupo2\", \"Grupo3\", \"Grupo4\"])\n",
    "plt.show()"
   ]
  },
  {
   "cell_type": "markdown",
   "metadata": {},
   "source": [
    "#### Gráfico de Diabetes"
   ]
  },
  {
   "cell_type": "code",
   "execution_count": null,
   "metadata": {
    "collapsed": true
   },
   "outputs": [],
   "source": [
    "plt.bar([1, 2, 3, 4],[grupo1[\"Diabetes\"].sum(axis=0, skipna = True), grupo2[\"Diabetes\"].sum(axis=0, skipna = True), grupo3[\"Diabetes\"].sum(axis=0, skipna = True), grupo4[\"Diabetes\"].sum(axis=0, skipna = True)], width=0.5, color=[\"blue\",\"orange\",\"green\",\"red\"])\n",
    "plt.xticks([1, 2, 3, 4], [\"Grupo1\", \"Grupo2\", \"Grupo3\", \"Grupo4\"])\n",
    "plt.show()"
   ]
  },
  {
   "cell_type": "markdown",
   "metadata": {},
   "source": [
    "#### Gráfico de Obesidade"
   ]
  },
  {
   "cell_type": "code",
   "execution_count": null,
   "metadata": {
    "collapsed": true
   },
   "outputs": [],
   "source": [
    "plt.bar([1, 2, 3, 4],[grupo1[\"Obesity\"].sum(axis=0, skipna = True), grupo2[\"Obesity\"].sum(axis=0, skipna = True), grupo3[\"Obesity\"].sum(axis=0, skipna = True), grupo4[\"Obesity\"].sum(axis=0, skipna = True)], width=0.5, color=[\"blue\",\"orange\",\"green\",\"red\"])\n",
    "plt.xticks([1, 2, 3, 4], [\"Grupo1\", \"Grupo2\", \"Grupo3\", \"Grupo4\"])\n",
    "plt.show()"
   ]
  },
  {
   "cell_type": "markdown",
   "metadata": {},
   "source": [
    "#### Gráfico de HIV"
   ]
  },
  {
   "cell_type": "code",
   "execution_count": null,
   "metadata": {
    "collapsed": true
   },
   "outputs": [],
   "source": [
    "plt.bar([1, 2, 3, 4],[grupo1[\"HIV\"].sum(axis=0, skipna = True), grupo2[\"HIV\"].sum(axis=0, skipna = True), grupo3[\"HIV\"].sum(axis=0, skipna = True), grupo4[\"HIV\"].sum(axis=0, skipna = True)], width=0.5, color=[\"blue\",\"orange\",\"green\",\"red\"])\n",
    "plt.xticks([1, 2, 3, 4], [\"Grupo1\", \"Grupo2\", \"Grupo3\", \"Grupo4\"])\n",
    "plt.show()"
   ]
  },
  {
   "cell_type": "markdown",
   "metadata": {},
   "source": [
    "### Gráficos segmentados por coluna cruzando os valores estatísticos dos grupos (número de valores por coluna, média, desvio padrão, mínimo, máximo, Q1, Q2 e Q3) "
   ]
  },
  {
   "cell_type": "markdown",
   "metadata": {},
   "source": [
    "#### Exclusão da coluna \"count\" por não trazer informação relevante"
   ]
  },
  {
   "cell_type": "code",
   "execution_count": null,
   "metadata": {
    "collapsed": true
   },
   "outputs": [],
   "source": [
    "stats_g1.drop(\"count\", axis = 0)\n",
    "stats_g2.drop(\"count\", axis = 0)\n",
    "stats_g3.drop(\"count\", axis = 0)\n",
    "stats_g4.drop(\"count\", axis = 0)"
   ]
  },
  {
   "cell_type": "markdown",
   "metadata": {},
   "source": [
    "#### Gráfico de Idade"
   ]
  },
  {
   "cell_type": "code",
   "execution_count": null,
   "metadata": {
    "collapsed": true
   },
   "outputs": [],
   "source": [
    "stats_g1[\"Age\"].plot(kind=\"line\", label = \"Grupo1\")\n",
    "stats_g2[\"Age\"].plot(kind=\"line\", label = \"Grupo2\")\n",
    "stats_g3[\"Age\"].plot(kind=\"line\", label = \"Grupo3\")\n",
    "stats_g4[\"Age\"].plot(kind=\"line\", label = \"Grupo4\")\n",
    "plt.legend(loc=9, prop={'size': 7})\n",
    "plt.show()"
   ]
  },
  {
   "cell_type": "markdown",
   "metadata": {},
   "source": [
    "#### Gráfico de gramas de álcool ingeridas por dia"
   ]
  },
  {
   "cell_type": "code",
   "execution_count": null,
   "metadata": {
    "collapsed": true
   },
   "outputs": [],
   "source": [
    "stats_g1[\"GramsAlcohol\"].plot(kind=\"line\", label = \"Grupo1\")\n",
    "stats_g2[\"GramsAlcohol\"].plot(kind=\"line\", label = \"Grupo2\")\n",
    "stats_g3[\"GramsAlcohol\"].plot(kind=\"line\", label = \"Grupo3\")\n",
    "stats_g4[\"GramsAlcohol\"].plot(kind=\"line\", label = \"Grupo4\")\n",
    "plt.legend(loc=9, prop={'size': 7})\n",
    "plt.show()"
   ]
  },
  {
   "cell_type": "markdown",
   "metadata": {},
   "source": [
    "#### Gráfico de pacotes de cigarro consumidos por ano"
   ]
  },
  {
   "cell_type": "code",
   "execution_count": null,
   "metadata": {
    "collapsed": true
   },
   "outputs": [],
   "source": [
    "stats_g1[\"PacksCigarets\"].plot(kind=\"line\", label = \"Grupo1\")\n",
    "stats_g2[\"PacksCigarets\"].plot(kind=\"line\", label = \"Grupo2\")\n",
    "stats_g3[\"PacksCigarets\"].plot(kind=\"line\", label = \"Grupo3\")\n",
    "stats_g4[\"PacksCigarets\"].plot(kind=\"line\", label = \"Grupo4\")\n",
    "plt.legend(loc=9, prop={'size': 7})\n",
    "plt.show()"
   ]
  },
  {
   "cell_type": "markdown",
   "metadata": {},
   "source": [
    "#### Gráfico dos Exames de Hemoglobina"
   ]
  },
  {
   "cell_type": "code",
   "execution_count": null,
   "metadata": {
    "collapsed": true
   },
   "outputs": [],
   "source": [
    "stats_g1[\"Hemoglobin\"].plot(kind=\"line\", label = \"Grupo1\")\n",
    "stats_g2[\"Hemoglobin\"].plot(kind=\"line\", label = \"Grupo2\")\n",
    "stats_g3[\"Hemoglobin\"].plot(kind=\"line\", label = \"Grupo3\")\n",
    "stats_g4[\"Hemoglobin\"].plot(kind=\"line\", label = \"Grupo4\")\n",
    "plt.legend(loc=9, prop={'size': 7})\n",
    "plt.show()"
   ]
  },
  {
   "cell_type": "markdown",
   "metadata": {},
   "source": [
    "#### Gráfico dos Exames de Bilirubina"
   ]
  },
  {
   "cell_type": "code",
   "execution_count": null,
   "metadata": {
    "collapsed": true
   },
   "outputs": [],
   "source": [
    "stats_g1[\"Bilirubin\"].plot(kind=\"line\", label = \"Grupo1\")\n",
    "stats_g2[\"Bilirubin\"].plot(kind=\"line\", label = \"Grupo2\")\n",
    "stats_g3[\"Bilirubin\"].plot(kind=\"line\", label = \"Grupo3\")\n",
    "stats_g4[\"Bilirubin\"].plot(kind=\"line\", label = \"Grupo4\")\n",
    "plt.legend(loc=9, prop={'size': 7})\n",
    "plt.show()"
   ]
  },
  {
   "cell_type": "markdown",
   "metadata": {},
   "source": [
    "#### Gráfico dos Exames de Proteínas"
   ]
  },
  {
   "cell_type": "code",
   "execution_count": null,
   "metadata": {
    "collapsed": true
   },
   "outputs": [],
   "source": [
    "stats_g1[\"Proteins\"].plot(kind=\"line\", label = \"Grupo1\")\n",
    "stats_g2[\"Proteins\"].plot(kind=\"line\", label = \"Grupo2\")\n",
    "stats_g3[\"Proteins\"].plot(kind=\"line\", label = \"Grupo3\")\n",
    "stats_g4[\"Proteins\"].plot(kind=\"line\", label = \"Grupo4\")\n",
    "plt.legend(loc=9, prop={'size': 7})\n",
    "plt.show()"
   ]
  },
  {
   "cell_type": "markdown",
   "metadata": {},
   "source": [
    "#### Gráfico dos Exames de Creatinina"
   ]
  },
  {
   "cell_type": "code",
   "execution_count": null,
   "metadata": {
    "collapsed": true
   },
   "outputs": [],
   "source": [
    "stats_g1[\"Creatinine\"].plot(kind=\"line\", label = \"Grupo1\")\n",
    "stats_g2[\"Creatinine\"].plot(kind=\"line\", label = \"Grupo2\")\n",
    "stats_g3[\"Creatinine\"].plot(kind=\"line\", label = \"Grupo3\")\n",
    "stats_g4[\"Creatinine\"].plot(kind=\"line\", label = \"Grupo4\")\n",
    "plt.legend(loc=9, prop={'size': 7})\n",
    "plt.show()"
   ]
  },
  {
   "cell_type": "markdown",
   "metadata": {},
   "source": [
    "### Função macro, englobando inúmeras outras funções para o cálculo do Score que representará o quanto uma pessoa está com a saúde em risco\n",
    "\n",
    "#### PARAMETRIZAÇÃO:\n",
    "\n",
    "##### HEMOGLOBINA (compõe o score bruto 1)\n",
    "##### 12 a 18 = 1\n",
    "##### 11 a 12 = 2\n",
    "##### 10 a 11 = 3\n",
    "##### 9 a 10 = 4\n",
    "##### Menor que 9 = 5\n",
    "\n",
    "##### BILIRUBINA (compõe o score bruto 2)\n",
    "##### 0.3 a 1.2 = 1 \n",
    "##### 1.2 a 3 = 2\n",
    "##### 3 a 6 = 3\n",
    "##### 6 a 9 = 4\n",
    "##### Maior que 9 = 5\n",
    "\n",
    "##### PROTEÍNAS (compõe o score bruto 3)\n",
    "##### 6 a 8 = 1\n",
    "##### 5 a 6 ou 8 a 9 = 2\n",
    "##### 4 a 5 ou 9 a 10 = 3\n",
    "##### 3 a 4 ou 10 a 11 = 4\n",
    "##### Menor que 3 ou Maior que 11 = 5\n",
    "\n",
    "##### CREATININA (compõe o score bruto 4)\n",
    "##### 0.5 a 1.2 = 1\n",
    "##### 0 a 0.5 ou 1.2 a 3 = 2\n",
    "##### 3 a 6 = 3\n",
    "##### 6 a 9 = 4\n",
    "##### Maior que 9 = 5\n",
    "\n",
    "##### GRAMAS DE ÁLCOOL/DIA (multiplicador local 1)\n",
    "##### 0 = x0\n",
    "##### 0 a 50 = x0.2\n",
    "##### 50 a 100 = x0.5\n",
    "##### 100 a 150 = x0.7\n",
    "##### Maior que 150 = x1\n",
    "\n",
    "##### PACOTES DE CIGARRO/ANO (multiplicador local 2)\n",
    "##### 0 = x0\n",
    "##### 0 a 20 = x0.2\n",
    "##### 20 a 40 = x0.5\n",
    "##### 40 a 60 = x0.7\n",
    "##### Maior que 60 = x1\n",
    "\n",
    "##### DOENÇAS - CIRROSE, DIABETES, OBESIDADE e HIV (multiplicador geral 1)\n",
    "##### Não apresenta doenças = x0\n",
    "##### Apresenta uma das doenças = x0.3\n",
    "##### Apresenta duas das doenças = x0.5\n",
    "##### Apresenta três das doenças = x1\n",
    "##### Apresenta todas as doenças = x1.5\n",
    "\n",
    "##### IDADE (multiplicador geral 2)\n",
    "##### 0 a 20 = x0\n",
    "##### 20 a 40 = x0.2\n",
    "##### 40 a 60 = x0.5\n",
    "##### 60 a 80 = x0.7\n",
    "##### Maior que 80 = x1\n",
    "\n",
    "\n",
    "##### ESCORE_BASE = score_bruto1 + score_bruto2 + score_bruto3 + score_bruto4\n",
    "##### ESCORE_MULTS_LOCAIS = ESCORE_BASE + (ESCORE_BASE * multiplicador_local1) + (ESCORE_BASE * multiplicador_local1)\n",
    "##### SCORES_MULTS_GERAIS = ((ESCORE_MULTS_LOCAIS * multiplicador_geral1) * multiplicador_geral2)\n"
   ]
  },
  {
   "cell_type": "code",
   "execution_count": null,
   "metadata": {
    "collapsed": true
   },
   "outputs": [],
   "source": [
    "def health_score(row):\n",
    "    def Hemoglobin_score():    \n",
    "        if row['Hemoglobin'] >= 12.0 and row['Hemoglobin'] <= 18.0:\n",
    "            return 1.0\n",
    "        elif row['Hemoglobin'] >= 11.0 and row['Hemoglobin'] < 12.0:\n",
    "            return 2.0\n",
    "        elif row['Hemoglobin'] >= 10.0 and row['Hemoglobin'] < 11.0:\n",
    "            return 3.0\n",
    "        elif row['Hemoglobin'] >= 9.0 and row['Hemoglobin'] < 10.0:\n",
    "            return 4.0\n",
    "        elif row['Hemoglobin'] < 9.0:\n",
    "            return 5.0\n",
    "        else:\n",
    "            return 0.0\n",
    "        \n",
    "    def Bilirubin_score():\n",
    "        if row['Bilirubin'] >= 0.3 and row['Bilirubin'] <= 1.2:\n",
    "            return 1.0\n",
    "        elif row['Bilirubin'] > 1.2  and row['Bilirubin'] <= 3.0:\n",
    "            return 2.0\n",
    "        elif row['Bilirubin'] > 3.0 and row['Bilirubin'] <= 6.0:\n",
    "            return 3.0\n",
    "        elif row['Bilirubin'] > 6.0 and row['Bilirubin'] <= 9.0:\n",
    "            return 4.0\n",
    "        elif row['Bilirubin'] > 9.0:\n",
    "            return 5.0\n",
    "        else:\n",
    "            return 0.0\n",
    "        \n",
    "    def Proteins_score():\n",
    "        if row['Proteins'] >= 6.0 and row['Proteins'] <= 8.0:\n",
    "            return 1.0\n",
    "        elif row['Proteins'] >= 5.0 and row['Proteins'] < 6.0 or row['Proteins'] > 8.0 and row['Proteins'] <= 9.0:\n",
    "            return 2.0\n",
    "        elif row['Proteins'] >= 4.0 and row['Proteins'] < 5.0 or row['Proteins'] > 9.0 and row['Proteins'] <= 10.0:\n",
    "            return 3.0\n",
    "        elif row['Proteins'] >= 3.0 and row['Proteins'] < 4.0 or row['Proteins'] > 10.0 and row['Proteins'] <= 11.0:\n",
    "            return 4.0\n",
    "        elif row['Proteins'] < 3.0 or row['Proteins'] > 11.0:\n",
    "            return 5.0\n",
    "        else:\n",
    "            return 0.0\n",
    "        \n",
    "    def Creatinine_score():\n",
    "        if row['Creatinine'] >= 0.5 and row['Creatinine'] <= 1.2:\n",
    "            return 1.0\n",
    "        elif row['Creatinine'] > 1.2 and row['Creatinine'] <= 3.0 or row['Creatinine'] < 0.5 and row['Creatinine'] >= 0.0:\n",
    "            return 2.0\n",
    "        elif row['Creatinine'] > 3.0 and row['Creatinine'] <= 6.0:\n",
    "            return 3.0\n",
    "        elif row['Creatinine'] > 6.0 and row['Creatinine'] <= 9.0:\n",
    "            return 4.0\n",
    "        elif row['Creatinine'] > 9.0:\n",
    "            return 5.0\n",
    "        else:\n",
    "            return 0.0\n",
    "    \n",
    "    def GramsAlcohol_mult():\n",
    "        if row['GramsAlcohol'] == 0.0:\n",
    "            return 0.0\n",
    "        elif row['GramsAlcohol'] > 0.0  and row['GramsAlcohol'] <= 50.0:\n",
    "            return 0.2\n",
    "        elif row['GramsAlcohol'] > 50.0 and row['GramsAlcohol'] <= 100.0:\n",
    "            return 0.5\n",
    "        elif row['GramsAlcohol'] > 100.0 and row['GramsAlcohol'] <= 150.0:\n",
    "            return 0.7\n",
    "        elif row['GramsAlcohol'] > 150.0:\n",
    "            return 1.0\n",
    "        else:\n",
    "            return 0.0\n",
    "        \n",
    "    def PacksCigarets_mult():\n",
    "        if row['PacksCigarets'] == 0.0:\n",
    "            return 0.0\n",
    "        elif row['PacksCigarets'] > 0.0  and row['PacksCigarets'] <= 20.0:\n",
    "            return 0.2\n",
    "        elif row['PacksCigarets'] > 20.0 and row['PacksCigarets'] <= 40.0:\n",
    "            return 0.5\n",
    "        elif row['PacksCigarets'] > 40.0 and row['PacksCigarets'] <= 60.0:\n",
    "            return 0.7\n",
    "        elif row['PacksCigarets'] > 60.0:\n",
    "            return 1.0\n",
    "        else:\n",
    "            return 0.0\n",
    "        \n",
    "    def Diseases_mult():\n",
    "        if row['Cirrhosis'] == 1.0:\n",
    "            value_Cirrhosis = 1.0\n",
    "        else:\n",
    "            value_Cirrhosis = 0.0\n",
    "        if row['Diabetes'] == 1.0:\n",
    "            value_Diabetes = 1.0\n",
    "        else:\n",
    "            value_Diabetes = 0.0\n",
    "        if row['Obesity'] == 1.0:\n",
    "            value_Obesity = 1.0\n",
    "        else:\n",
    "            value_Obesity = 0.0\n",
    "        if row['HIV'] == 1.0:\n",
    "            value_HIV = 1.0\n",
    "        else:\n",
    "            value_HIV = 0.0\n",
    "            \n",
    "        sum_diseases_mult = value_Cirrhosis + value_Diabetes + value_Obesity + value_HIV\n",
    "        \n",
    "        if sum_diseases_mult == 0.0:\n",
    "            return 0.0\n",
    "        if sum_diseases_mult == 1.0:\n",
    "            return 0.3\n",
    "        if sum_diseases_mult == 2.0:\n",
    "            return 0.5\n",
    "        if sum_diseases_mult == 3.0:\n",
    "            return 1.0\n",
    "        if sum_diseases_mult == 4.0:\n",
    "            return 1.5\n",
    "        \n",
    "    def Age_mult():\n",
    "        if row['Age'] >= 0.0 and row['Age'] <= 20.0:\n",
    "            return 0.0\n",
    "        elif row['Age'] > 20.0  and row['Age'] <= 40.0:\n",
    "            return 0.2\n",
    "        elif row['Age'] > 40.0 and row['Age'] <= 60.0:\n",
    "            return 0.5\n",
    "        elif row['Age'] > 60.0 and row['Age'] <= 80.0:\n",
    "            return 0.7\n",
    "        elif row['Age'] > 80.0:\n",
    "            return 1.0\n",
    "        else:\n",
    "            return 0.0\n",
    "        \n",
    "    \n",
    "    \n",
    "    base_score = Hemoglobin_score() + Bilirubin_score() + Proteins_score() + Creatinine_score()\n",
    "    score_local_mults = base_score + (base_score * GramsAlcohol_mult()) + (base_score * PacksCigarets_mult())\n",
    "    score_diseases_mult = score_local_mults + (score_local_mults * Diseases_mult())\n",
    "    final_score = score_diseases_mult + (score_diseases_mult * Age_mult())\n",
    "    return final_score\n",
    "\n",
    "    \n"
   ]
  },
  {
   "cell_type": "markdown",
   "metadata": {},
   "source": [
    "### Criação de uma nova coluna em cada dataframe mostrando o Score de cada indivíduo"
   ]
  },
  {
   "cell_type": "code",
   "execution_count": 68,
   "metadata": {
    "collapsed": true
   },
   "outputs": [],
   "source": [
    "grupo1['Score'] = grupo1.apply (lambda row: health_score(row), axis=1)\n",
    "grupo2['Score'] = grupo2.apply (lambda row: health_score(row), axis=1)\n",
    "grupo3['Score'] = grupo3.apply (lambda row: health_score(row), axis=1)\n",
    "grupo4['Score'] = grupo4.apply (lambda row: health_score(row), axis=1)"
   ]
  },
  {
   "cell_type": "markdown",
   "metadata": {},
   "source": [
    "### Efetuação da soma dos Scores dos indivíduos para cada um dos grupos"
   ]
  },
  {
   "cell_type": "code",
   "execution_count": null,
   "metadata": {
    "collapsed": true
   },
   "outputs": [],
   "source": [
    "g1_score_sum = grupo1['Score'].sum(axis=0, skipna = True)\n",
    "g2_score_sum = grupo2['Score'].sum(axis=0, skipna = True)\n",
    "g3_score_sum = grupo3['Score'].sum(axis=0, skipna = True)\n",
    "g4_score_sum = grupo4['Score'].sum(axis=0, skipna = True)"
   ]
  },
  {
   "cell_type": "markdown",
   "metadata": {},
   "source": [
    "### Gráfico mostrando o Score Final de cada grupo"
   ]
  },
  {
   "cell_type": "code",
   "execution_count": null,
   "metadata": {
    "collapsed": true
   },
   "outputs": [],
   "source": [
    "plt.bar([1, 2, 3, 4], [g1_score_sum, g2_score_sum, g3_score_sum, g4_score_sum], width=0.5, color=[\"blue\",\"orange\",\"green\",\"red\"])\n",
    "plt.xticks([1, 2, 3, 4], [\"Grupo1\", \"Grupo2\", \"Grupo3\", \"Grupo4\"])\n",
    "plt.show()"
   ]
  }
 ],
 "metadata": {
  "kernelspec": {
   "display_name": "Python 3",
   "language": "python",
   "name": "python3"
  },
  "language_info": {
   "codemirror_mode": {
    "name": "ipython",
    "version": 3
   },
   "file_extension": ".py",
   "mimetype": "text/x-python",
   "name": "python",
   "nbconvert_exporter": "python",
   "pygments_lexer": "ipython3",
   "version": "3.6.2"
  }
 },
 "nbformat": 4,
 "nbformat_minor": 2
}
